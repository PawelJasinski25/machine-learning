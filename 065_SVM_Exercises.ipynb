{
 "cells": [
  {
   "cell_type": "markdown",
   "metadata": {},
   "source": [
    "# Exercises\n",
    "\n",
    "In this section we have two exercises:\n",
    "1. Implement the polynomial kernel.\n",
    "2. Implement the multiclass C-SVM."
   ]
  },
  {
   "cell_type": "markdown",
   "metadata": {},
   "source": [
    "## Polynomial kernel\n",
    "\n",
    "You need to extend the ``build_kernel`` function and implement the polynomial kernel if the ``kernel_type`` is set to 'poly'. The equation that needs to be implemented:\n",
    "\\begin{equation}\n",
    "K=(X^{T}*Y)^{d}.\n",
    "\\end{equation}"
   ]
  },
  {
   "cell_type": "code",
   "execution_count": 28,
   "metadata": {},
   "outputs": [],
   "source": [
    "import numpy as np\n",
    "from sklearn.datasets import load_iris\n",
    "\n",
    "def build_kernel(data_set, kernel_type='linear',degree=3):\n",
    "    kernel = np.dot(data_set, data_set.T)\n",
    "    if kernel_type == 'rbf':\n",
    "        sigma = 1.0\n",
    "        objects_count = len(data_set)\n",
    "        b = np.ones((len(data_set), 1))\n",
    "        kernel -= 0.5 * (np.dot((np.diag(kernel)*np.ones((1, objects_count))).T, b.T)\n",
    "                         + np.dot(b, (np.diag(kernel) * np.ones((1, objects_count))).T.T))\n",
    "        kernel = np.exp(kernel / (2. * sigma ** 2))\n",
    "    elif kernel_type == 'poly':\n",
    "        kernel = np.dot(data_set, data_set.T)\n",
    "        kernel = np.power(kernel, degree)\n",
    "    return kernel"
   ]
  },
  {
   "cell_type": "markdown",
   "metadata": {},
   "source": [
    "## Implement a multiclass C-SVM\n",
    "\n",
    "Use the classification method that we used in notebook 7.3 and IRIS dataset to build a multiclass C-SVM classifier. Most implementation is about a function that will return the proper data set that need to be used for the prediction. You need to implement:\n",
    "- ``choose_set_for_label``\n",
    "- ``get_labels_count``"
   ]
  },
  {
   "cell_type": "code",
   "execution_count": 29,
   "metadata": {},
   "outputs": [],
   "source": [
    "def choose_set_for_label(data_set, labels, classes):\n",
    "    mask = np.isin(labels, classes)\n",
    "    filtered_data = data_set[mask]\n",
    "    filtered_labels = labels[mask]\n",
    "    train_labels = np.where(filtered_labels == classes[0], -1, 1)\n",
    "\n",
    "    return filtered_data, train_labels"
   ]
  },
  {
   "cell_type": "code",
   "execution_count": 10,
   "metadata": {},
   "outputs": [],
   "source": [
    "def get_labels_count(data_set):\n",
    "    return len(np.unique(data_set))"
   ]
  },
  {
   "cell_type": "markdown",
   "metadata": {},
   "source": [
    "Use the code that we have implemented earlier:"
   ]
  },
  {
   "cell_type": "code",
   "execution_count": 30,
   "metadata": {},
   "outputs": [],
   "source": [
    "def train(train_data_set, train_labels, kernel_type='linear', C=10, threshold=1e-5):\n",
    "    kernel = build_kernel(train_data_set, kernel_type=kernel_type)\n",
    "    objects_count = len(train_data_set)\n",
    "\n",
    "    P = train_labels * train_labels.transpose() * kernel\n",
    "    q = -np.ones((objects_count, 1))\n",
    "    G = np.concatenate((np.eye(objects_count), -np.eye(objects_count)))\n",
    "    h = np.concatenate((C * np.ones((objects_count, 1)), np.zeros((objects_count, 1))))\n",
    "\n",
    "    A = train_labels.reshape(1, objects_count)\n",
    "    A = A.astype(float)\n",
    "    b = 0.0\n",
    "\n",
    "    sol = cvxopt.solvers.qp(cvxopt.matrix(P), cvxopt.matrix(q), cvxopt.matrix(G), cvxopt.matrix(h), cvxopt.matrix(A), cvxopt.matrix(b))\n",
    "\n",
    "    lambdas = np.array(sol['x'])\n",
    "\n",
    "    support_vectors_id = np.where(lambdas > threshold)[0]\n",
    "    vector_number = len(support_vectors_id)\n",
    "    support_vectors = train_data_set[support_vectors_id, :]\n",
    "\n",
    "    lambdas = lambdas[support_vectors_id]\n",
    "    targets = train_labels[support_vectors_id]\n",
    "\n",
    "    b = np.sum(targets)\n",
    "    for n in range(vector_number):\n",
    "        b -= np.sum(lambdas * targets * np.reshape(kernel[support_vectors_id[n], support_vectors_id], (vector_number, 1)))\n",
    "    b /= len(lambdas)\n",
    "\n",
    "    return lambdas, support_vectors, support_vectors_id, b, targets, vector_number\n",
    "\n",
    "def build_kernel(data_set, kernel_type='linear'):\n",
    "    kernel = np.dot(data_set, data_set.T)\n",
    "    if kernel_type == 'rbf':\n",
    "        sigma = 1.0\n",
    "        objects_count = len(data_set)\n",
    "        b = np.ones((len(data_set), 1))\n",
    "        kernel -= 0.5 * (np.dot((np.diag(kernel)*np.ones((1, objects_count))).T, b.T)\n",
    "                         + np.dot(b, (np.diag(kernel) * np.ones((1, objects_count))).T.T))\n",
    "        kernel = np.exp(kernel / (2. * sigma ** 2))\n",
    "    return kernel\n",
    "\n",
    "def classify_rbf(test_data_set, train_data_set, lambdas, targets, b, vector_number, support_vectors, support_vectors_id):\n",
    "    kernel = np.dot(test_data_set, support_vectors.T)\n",
    "    sigma = 1.0\n",
    "    #K = np.dot(test_data_set, support_vectors.T)\n",
    "    #kernel = build_kernel(train_data_set, kernel_type='rbf')\n",
    "    c = (1. / sigma * np.sum(test_data_set ** 2, axis=1) * np.ones((1, np.shape(test_data_set)[0]))).T\n",
    "    c = np.dot(c, np.ones((1, np.shape(kernel)[1])))\n",
    "    #aa = np.dot((np.diag(K)*np.ones((1,len(test_data_set)))).T[support_vectors_id], np.ones((1, np.shape(K)[0]))).T\n",
    "    sv = (np.diag(np.dot(train_data_set, train_data_set.T))*np.ones((1,len(train_data_set)))).T[support_vectors_id]\n",
    "    aa = np.dot(sv,np.ones((1,np.shape(kernel)[0]))).T\n",
    "    kernel = kernel - 0.5 * c - 0.5 * aa\n",
    "    kernel = np.exp(kernel / (2. * sigma ** 2))\n",
    "\n",
    "    y = np.zeros((np.shape(test_data_set)[0], 1))\n",
    "    for j in range(np.shape(test_data_set)[0]):\n",
    "        for i in range(vector_number):\n",
    "            y[j] += lambdas[i] * targets[i] * kernel[j, i]\n",
    "        y[j] += b\n",
    "    return np.sign(y)"
   ]
  },
  {
   "cell_type": "code",
   "execution_count": 31,
   "metadata": {},
   "outputs": [
    {
     "name": "stdout",
     "output_type": "stream",
     "text": [
      "     pcost       dcost       gap    pres   dres\n",
      " 0:  9.0982e+01 -9.5636e+02  2e+03  1e-01  2e-15\n",
      " 1:  4.7786e+01 -9.4909e+01  2e+02  5e-03  2e-15\n",
      " 2:  5.1544e+00 -1.3650e+01  2e+01  7e-16  2e-15\n",
      " 3: -7.1636e-01 -3.2627e+00  3e+00  2e-16  8e-16\n",
      " 4: -1.1914e+00 -1.7466e+00  6e-01  2e-16  3e-16\n",
      " 5: -1.3686e+00 -1.5661e+00  2e-01  2e-16  2e-16\n",
      " 6: -1.4291e+00 -1.4833e+00  5e-02  2e-16  2e-16\n",
      " 7: -1.4542e+00 -1.4601e+00  6e-03  2e-16  2e-16\n",
      " 8: -1.4564e+00 -1.4565e+00  1e-04  2e-16  2e-16\n",
      " 9: -1.4564e+00 -1.4564e+00  2e-06  2e-16  2e-16\n",
      "10: -1.4564e+00 -1.4564e+00  2e-08  2e-16  2e-16\n",
      "Optimal solution found.\n",
      "     pcost       dcost       gap    pres   dres\n",
      " 0:  1.0498e+02 -1.0701e+03  2e+03  1e-01  2e-15\n",
      " 1:  5.3584e+01 -1.0896e+02  2e+02  5e-03  2e-15\n",
      " 2:  5.7517e+00 -1.5619e+01  2e+01  4e-16  2e-15\n",
      " 3: -8.8834e-01 -3.7649e+00  3e+00  2e-16  8e-16\n",
      " 4: -1.4296e+00 -2.1699e+00  7e-01  1e-16  3e-16\n",
      " 5: -1.6392e+00 -1.9091e+00  3e-01  2e-16  2e-16\n",
      " 6: -1.7256e+00 -1.8093e+00  8e-02  2e-16  2e-16\n",
      " 7: -1.7463e+00 -1.7640e+00  2e-02  2e-16  2e-16\n",
      " 8: -1.7520e+00 -1.7561e+00  4e-03  2e-16  2e-16\n",
      " 9: -1.7534e+00 -1.7538e+00  4e-04  3e-16  2e-16\n",
      "10: -1.7536e+00 -1.7536e+00  6e-06  3e-16  2e-16\n",
      "11: -1.7536e+00 -1.7536e+00  6e-08  2e-16  2e-16\n",
      "Optimal solution found.\n",
      "     pcost       dcost       gap    pres   dres\n",
      " 0:  7.9862e+01 -9.9105e+02  2e+03  2e-01  2e-15\n",
      " 1:  4.6431e+01 -9.7929e+01  2e+02  6e-03  2e-15\n",
      " 2:  5.4577e+00 -1.3520e+01  2e+01  4e-16  2e-15\n",
      " 3: -5.9742e-01 -3.1742e+00  3e+00  3e-16  1e-15\n",
      " 4: -1.1401e+00 -1.6286e+00  5e-01  2e-16  3e-16\n",
      " 5: -1.2510e+00 -1.3849e+00  1e-01  2e-16  2e-16\n",
      " 6: -1.3104e+00 -1.3945e+00  8e-02  2e-16  2e-16\n",
      " 7: -1.3265e+00 -1.3371e+00  1e-02  3e-16  2e-16\n",
      " 8: -1.3300e+00 -1.3302e+00  2e-04  2e-16  2e-16\n",
      " 9: -1.3301e+00 -1.3301e+00  2e-06  4e-16  2e-16\n",
      "10: -1.3301e+00 -1.3301e+00  2e-08  2e-16  2e-16\n",
      "Optimal solution found.\n",
      "Accuracy: 0.6500\n"
     ]
    }
   ],
   "source": [
    "from sklearn.datasets import load_iris\n",
    "import numpy as np\n",
    "from sklearn.model_selection import train_test_split\n",
    "import cvxopt\n",
    "from itertools import combinations\n",
    "from sklearn.metrics import accuracy_score\n",
    "\n",
    "iris = load_iris()\n",
    "data_set = iris.data\n",
    "labels = iris.target\n",
    "\n",
    "train_data_set, test_data_set, train_labels, test_labels = train_test_split(\n",
    "    data_set, labels, test_size=0.4, random_state=16\n",
    ")\n",
    "\n",
    "labels_combinations = list(combinations(range(get_labels_count(labels)), 2))\n",
    "\n",
    "votes = np.zeros((len(test_data_set), get_labels_count(labels)))\n",
    "\n",
    "for classes in labels_combinations:\n",
    "    filtered_data, binary_labels = choose_set_for_label(train_data_set, train_labels, classes)\n",
    "    \n",
    "    lambdas, support_vectors, support_vectors_id, b, targets, vector_number = train(\n",
    "        filtered_data, binary_labels, kernel_type='rbf'\n",
    "    )\n",
    "    \n",
    "    predicted_labels = classify_rbf(\n",
    "        test_data_set, filtered_data, lambdas, targets, b, vector_number, support_vectors, support_vectors_id\n",
    "    )\n",
    "    \n",
    "    assigned_classes = np.where(predicted_labels.flatten() == -1, classes[0], classes[1])\n",
    "\n",
    "    for idx, cls in enumerate(assigned_classes):\n",
    "        votes[idx, cls] += 1\n",
    "\n",
    "final_predictions = np.argmax(votes, axis=1)\n",
    "\n",
    "accuracy = accuracy_score(test_labels, final_predictions)\n",
    "print(f\"Accuracy: {accuracy:.4f}\")\n"
   ]
  }
 ],
 "metadata": {
  "kernelspec": {
   "display_name": "Python 3",
   "language": "python",
   "name": "python3"
  },
  "language_info": {
   "codemirror_mode": {
    "name": "ipython",
    "version": 3
   },
   "file_extension": ".py",
   "mimetype": "text/x-python",
   "name": "python",
   "nbconvert_exporter": "python",
   "pygments_lexer": "ipython3",
   "version": "3.10.11"
  }
 },
 "nbformat": 4,
 "nbformat_minor": 4
}
